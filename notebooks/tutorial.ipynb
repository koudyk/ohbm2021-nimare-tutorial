{
 "cells": [
  {
   "cell_type": "markdown",
   "metadata": {},
   "source": [
    "# OHBM 2021 NiMARE tutorial"
   ]
  },
  {
   "cell_type": "code",
   "execution_count": null,
   "metadata": {},
   "outputs": [],
   "source": [
    "%matplotlib inline\n",
    "import json\n",
    "import os.path as op\n",
    "from pprint import pprint\n",
    "\n",
    "import matplotlib.pyplot as plt\n",
    "from nilearn import plotting\n",
    "\n",
    "import nimare"
   ]
  },
  {
   "cell_type": "code",
   "execution_count": null,
   "metadata": {},
   "outputs": [],
   "source": [
    "DATA_DIR = op.abspath(\"../data/nimare_tutorial/\")"
   ]
  },
  {
   "cell_type": "markdown",
   "metadata": {},
   "source": [
    "## Basics of NiMARE datasets\n",
    "NiMARE relies on a specification for meta-analytic datasets named [NIMADS](https://github.com/neurostuff/NIMADS). NIMADS is currently under development."
   ]
  },
  {
   "cell_type": "code",
   "execution_count": null,
   "metadata": {
    "scrolled": false
   },
   "outputs": [],
   "source": [
    "with open(op.join(DATA_DIR, \"nidm_pain_dset.json\"), \"r\") as fo:\n",
    "    data = json.load(fo)\n",
    "\n",
    "reduced_data = {k: v for k, v in data.items() if k in list(data.keys())[:2]}\n",
    "\n",
    "pprint(reduced_data)"
   ]
  },
  {
   "cell_type": "code",
   "execution_count": null,
   "metadata": {},
   "outputs": [],
   "source": [
    "dset_dir = nimare.extract.download_nidm_pain(data_dir=DATA_DIR)\n",
    "pain_dset = nimare.dataset.Dataset(op.join(DATA_DIR, \"nidm_pain_dset.json\"))\n",
    "pain_dset.update_path(dset_dir)"
   ]
  },
  {
   "cell_type": "markdown",
   "metadata": {},
   "source": [
    "The `Dataset` stores most relevant information as properties- specifically pandas `DataFrame`s."
   ]
  },
  {
   "cell_type": "code",
   "execution_count": null,
   "metadata": {},
   "outputs": [],
   "source": [
    "pain_dset.coordinates.head()"
   ]
  },
  {
   "cell_type": "code",
   "execution_count": null,
   "metadata": {},
   "outputs": [],
   "source": [
    "pain_dset.metadata.head()"
   ]
  },
  {
   "cell_type": "code",
   "execution_count": null,
   "metadata": {},
   "outputs": [],
   "source": [
    "pain_dset.images.head()"
   ]
  },
  {
   "cell_type": "markdown",
   "metadata": {},
   "source": [
    "There are functions to convert common formats for meta-analysis datasets- namely [Neurosynth](https://github.com/neurosynth/neurosynth-data) and [Sleuth](http://brainmap.org/sleuth/) files."
   ]
  },
  {
   "cell_type": "markdown",
   "metadata": {},
   "source": [
    "Downloading and converting the Neurosynth dataset takes a long time, so we will use a pregenerated version of the dataset. However, here is the code we would use to download and convert the dataset from scratch:\n",
    "\n",
    "```python\n",
    "nimare.extract.fetch_neurosynth(\"data/\", unpack=True)\n",
    "ns_dset = nimare.io.convert_neurosynth_to_dataset(\n",
    "    \"data/database.txt\",\n",
    "    \"data/features.txt\",\n",
    ")\n",
    "```"
   ]
  },
  {
   "cell_type": "code",
   "execution_count": null,
   "metadata": {},
   "outputs": [],
   "source": [
    "ns_dset = nimare.dataset.Dataset.load(op.join(DATA_DIR, \"neurosynth_dataset.pkl.gz\"))"
   ]
  },
  {
   "cell_type": "code",
   "execution_count": null,
   "metadata": {},
   "outputs": [],
   "source": [
    "sleuth_dset = nimare.io.convert_sleuth_to_dataset(op.join(DATA_DIR, \"sleuth_dataset.txt\"))"
   ]
  },
  {
   "cell_type": "markdown",
   "metadata": {},
   "source": [
    "## Searching large datasets\n",
    "\n",
    "The `Dataset` class contains multiple methods for selecting subsets of studies within the dataset.\n",
    "\n",
    "One common approach is to search by \"labels\" or \"terms\" that apply to studies. In Neurosynth, labels are derived from term frequency within abstracts."
   ]
  },
  {
   "cell_type": "code",
   "execution_count": null,
   "metadata": {},
   "outputs": [],
   "source": [
    "pain_ids = ns_dset.get_studies_by_label(\"Neurosynth_TFIDF__pain\", label_threshold=0.001)\n",
    "ns_pain_dset = ns_dset.slice(pain_ids)"
   ]
  },
  {
   "cell_type": "markdown",
   "metadata": {},
   "source": [
    "A MACM (meta-analytic coactivation modeling) analysis is generally performed by running a meta-analysis on studies with a peak in a region of interest."
   ]
  },
  {
   "cell_type": "code",
   "execution_count": null,
   "metadata": {},
   "outputs": [],
   "source": [
    "sphere_ids = ns_dset.get_studies_by_coordinate([[24, -2, -20]], r=6)\n",
    "sphere_dset = ns_dset.slice(sphere_ids)"
   ]
  },
  {
   "cell_type": "markdown",
   "metadata": {},
   "source": [
    "## Running meta-analyses\n",
    "\n",
    "### Coordinate-based meta-analysis"
   ]
  },
  {
   "cell_type": "code",
   "execution_count": null,
   "metadata": {},
   "outputs": [],
   "source": [
    "mkda_kernel = nimare.meta.kernel.MKDAKernel(r=10)\n",
    "mkda_ma_maps = mkda_kernel.transform(sleuth_dset, return_type=\"image\")\n",
    "kda_kernel = nimare.meta.kernel.KDAKernel(r=10)\n",
    "kda_ma_maps = kda_kernel.transform(sleuth_dset, return_type=\"image\")\n",
    "ale_kernel = nimare.meta.kernel.ALEKernel(sample_size=20)\n",
    "ale_ma_maps = ale_kernel.transform(sleuth_dset, return_type=\"image\")\n",
    "\n",
    "# Let's show the kernels\n",
    "fig, axes = plt.subplots(ncols=3, figsize=(20, 5))\n",
    "plotting.plot_stat_map(\n",
    "    mkda_ma_maps[28],\n",
    "    annotate=False,\n",
    "    axes=axes[0],\n",
    "    cmap=\"Reds\",\n",
    "    cut_coords=[30, -30, -14],\n",
    "    draw_cross=False,\n",
    "    figure=fig,\n",
    "    title=\"MKDA Kernel\",\n",
    ")\n",
    "plotting.plot_stat_map(\n",
    "    kda_ma_maps[28],\n",
    "    annotate=False,\n",
    "    axes=axes[1],\n",
    "    cmap=\"Reds\",\n",
    "    cut_coords=[30, -30, -14],\n",
    "    draw_cross=False,\n",
    "    figure=fig,\n",
    "    title=\"KDA Kernel\",\n",
    ")\n",
    "plotting.plot_stat_map(\n",
    "    ale_ma_maps[28],\n",
    "    annotate=False,\n",
    "    axes=axes[2],\n",
    "    cmap=\"Reds\",\n",
    "    cut_coords=[30, -30, -14],\n",
    "    draw_cross=False,\n",
    "    figure=fig,\n",
    "    title=\"ALE Kernel\",\n",
    ")\n",
    "fig.show()"
   ]
  },
  {
   "cell_type": "code",
   "execution_count": null,
   "metadata": {},
   "outputs": [],
   "source": [
    "ale_meta = nimare.meta.cbma.ale.ALE(null_method=\"approximate\")\n",
    "ale_results = ale_meta.fit(sleuth_dset)\n",
    "ale_results.maps"
   ]
  },
  {
   "cell_type": "code",
   "execution_count": null,
   "metadata": {},
   "outputs": [],
   "source": [
    "plotting.plot_stat_map(ale_results.get_map(\"z\"))"
   ]
  },
  {
   "cell_type": "code",
   "execution_count": null,
   "metadata": {},
   "outputs": [],
   "source": [
    "mc_corrector = nimare.correct.FWECorrector(\n",
    "    method=\"montecarlo\", \n",
    "    n_iters=100, \n",
    "    n_cores=1,\n",
    ")\n",
    "mc_results = mc_corrector.transform(ale_results)\n",
    "mc_results.maps"
   ]
  },
  {
   "cell_type": "code",
   "execution_count": null,
   "metadata": {},
   "outputs": [],
   "source": [
    "plotting.plot_stat_map(mc_results.get_map(\"z_level-cluster_corr-FWE_method-montecarlo\"))"
   ]
  },
  {
   "cell_type": "markdown",
   "metadata": {},
   "source": [
    "### Image-based meta-analysis"
   ]
  },
  {
   "cell_type": "code",
   "execution_count": null,
   "metadata": {},
   "outputs": [],
   "source": [
    "pain_dset.images.head()"
   ]
  },
  {
   "cell_type": "code",
   "execution_count": null,
   "metadata": {},
   "outputs": [],
   "source": [
    "# Calculate missing images\n",
    "pain_dset.images = nimare.transforms.transform_images(\n",
    "    pain_dset.images,\n",
    "    target=\"z\",\n",
    "    masker=pain_dset.masker,\n",
    "    metadata_df=pain_dset.metadata,\n",
    ")\n",
    "pain_dset.images = nimare.transforms.transform_images(\n",
    "    pain_dset.images,\n",
    "    target=\"varcope\",\n",
    "    masker=pain_dset.masker,\n",
    "    metadata_df=pain_dset.metadata,\n",
    ")"
   ]
  },
  {
   "cell_type": "code",
   "execution_count": null,
   "metadata": {},
   "outputs": [],
   "source": [
    "dsl_meta = nimare.meta.ibma.DerSimonianLaird()\n",
    "dsl_results = dsl_meta.fit(pain_dset)"
   ]
  },
  {
   "cell_type": "code",
   "execution_count": null,
   "metadata": {},
   "outputs": [],
   "source": [
    "plotting.plot_stat_map(dsl_results.get_map(\"z\"))"
   ]
  },
  {
   "cell_type": "code",
   "execution_count": null,
   "metadata": {},
   "outputs": [],
   "source": [
    "ols_meta = nimare.meta.ibma.PermutedOLS()\n",
    "ols_results = ols_meta.fit(pain_dset)"
   ]
  },
  {
   "cell_type": "code",
   "execution_count": null,
   "metadata": {},
   "outputs": [],
   "source": [
    "plotting.plot_stat_map(ols_results.get_map(\"z\"))"
   ]
  },
  {
   "cell_type": "code",
   "execution_count": null,
   "metadata": {},
   "outputs": [],
   "source": []
  }
 ],
 "metadata": {
  "jupytext": {
   "formats": "ipynb,md"
  },
  "kernelspec": {
   "display_name": "Python 3",
   "language": "python",
   "name": "python3"
  },
  "language_info": {
   "codemirror_mode": {
    "name": "ipython",
    "version": 3
   },
   "file_extension": ".py",
   "mimetype": "text/x-python",
   "name": "python",
   "nbconvert_exporter": "python",
   "pygments_lexer": "ipython3",
   "version": "3.8.5"
  }
 },
 "nbformat": 4,
 "nbformat_minor": 4
}
