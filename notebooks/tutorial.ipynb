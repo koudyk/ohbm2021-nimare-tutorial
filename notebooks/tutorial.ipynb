{
 "cells": [
  {
   "cell_type": "markdown",
   "metadata": {},
   "source": [
    "# OHBM 2021 NiMARE tutorial\n",
    "\n",
    "## Goals\n",
    "\n",
    "1. Working with NiMARE meta-analytic datasets\n",
    "1. Searching large datasets\n",
    "1. Performing coordinate-based meta-analyses\n",
    "1. Performing image-based meta-analyses"
   ]
  },
  {
   "cell_type": "code",
   "execution_count": null,
   "metadata": {},
   "outputs": [],
   "source": [
    "%matplotlib inline\n",
    "import json\n",
    "import os.path as op\n",
    "from pprint import pprint\n",
    "\n",
    "import matplotlib.pyplot as plt\n",
    "from nilearn import plotting\n",
    "\n",
    "import nimare"
   ]
  },
  {
   "cell_type": "code",
   "execution_count": null,
   "metadata": {},
   "outputs": [],
   "source": [
    "DATA_DIR = op.abspath(\"../data/nimare_tutorial/osfstorage/\")"
   ]
  },
  {
   "cell_type": "markdown",
   "metadata": {},
   "source": [
    "## Basics of NiMARE datasets\n",
    "NiMARE relies on a specification for meta-analytic datasets named [NIMADS](https://github.com/neurostuff/NIMADS).\n",
    "\n",
    "Under NIMADS, meta-analytic datasets are stored as JSON files, with information about peak coordinates, _relative_ links to any unthresholded statistical images, metadata, annotations, and raw text.\n",
    "\n",
    "**WARNING: NIMADS is currently under development.**"
   ]
  },
  {
   "cell_type": "code",
   "execution_count": null,
   "metadata": {
    "scrolled": false
   },
   "outputs": [],
   "source": [
    "with open(op.join(DATA_DIR, \"nidm_pain_dset.json\"), \"r\") as fo:\n",
    "    data = json.load(fo)\n",
    "\n",
    "reduced_data = {k: v for k, v in data.items() if k in list(data.keys())[:2]}\n",
    "\n",
    "pprint(reduced_data)"
   ]
  },
  {
   "cell_type": "markdown",
   "metadata": {},
   "source": [
    "As a test Dataset containing both coordinates and images, we will load a NiMARE dataset created from [Collection 1425 on NeuroVault](https://identifiers.org/neurovault.collection:1425), which contains [NIDM-Results packs](http://nidm.nidash.org/specs/nidm-results_130.html) for 21 pain studies."
   ]
  },
  {
   "cell_type": "code",
   "execution_count": null,
   "metadata": {},
   "outputs": [],
   "source": [
    "pain_dset = nimare.dataset.Dataset(op.join(DATA_DIR, \"nidm_pain_dset.json\"))\n",
    "\n",
    "# In addition to loading the NIMADS-format JSON file,\n",
    "# we need to download the associated statistical images from NeuroVault,\n",
    "# for which NiMARE has a useful function.\n",
    "dset_dir = nimare.extract.download_nidm_pain(data_dir=DATA_DIR)\n",
    "\n",
    "# We then notify the Dataset about the location of the images,\n",
    "# so that the *relative paths* in the Dataset can be used to determine *absolute paths*.\n",
    "pain_dset.update_path(dset_dir)"
   ]
  },
  {
   "cell_type": "markdown",
   "metadata": {},
   "source": [
    "The `Dataset` stores most relevant information as properties.\n",
    "\n",
    "The full list of identifiers in the Dataset is located in `Dataset.ids`. Identifiers are composed of two parts- a study ID and a contrast ID. Within the Dataset, those two parts are separated with a `-`."
   ]
  },
  {
   "cell_type": "code",
   "execution_count": null,
   "metadata": {},
   "outputs": [],
   "source": [
    "print(pain_dset.ids)"
   ]
  },
  {
   "cell_type": "markdown",
   "metadata": {},
   "source": [
    "Most other information is stored in `pandas` DataFrames. The five DataFrame-based attributes are `Dataset.metadata`, `Dataset.coordinates`, `Dataset.images`, `Dataset.annotations`, and `Dataset.texts`.\n",
    "\n",
    "Each DataFrame contains at least three columns: `study_id`, `contrast_id`, and `id`, which is the combined `study_id` and `contrast_id`."
   ]
  },
  {
   "cell_type": "code",
   "execution_count": null,
   "metadata": {},
   "outputs": [],
   "source": [
    "pain_dset.coordinates.head()"
   ]
  },
  {
   "cell_type": "code",
   "execution_count": null,
   "metadata": {},
   "outputs": [],
   "source": [
    "pain_dset.metadata.head()"
   ]
  },
  {
   "cell_type": "code",
   "execution_count": null,
   "metadata": {},
   "outputs": [],
   "source": [
    "pain_dset.images.head()"
   ]
  },
  {
   "cell_type": "code",
   "execution_count": null,
   "metadata": {},
   "outputs": [],
   "source": [
    "pain_dset.annotations.head()"
   ]
  },
  {
   "cell_type": "code",
   "execution_count": null,
   "metadata": {},
   "outputs": [],
   "source": [
    "pain_dset.texts.head()"
   ]
  },
  {
   "cell_type": "markdown",
   "metadata": {},
   "source": [
    "Other relevant attributes are `Dataset.masker` and `Dataset.space`.\n",
    "\n",
    "`Dataset.masker` is a [nilearn Masker object](https://nilearn.github.io/manipulating_images/masker_objects.html#), which specifies the manner in which voxel-wise information like peak coordinates and statistical images are mapped into usable arrays. Most meta-analytic tools within NiMARE accept a `masker` argument, so the Dataset's masker can be overridden in most cases.\n",
    "\n",
    "`Dataset.space` is just a string describing the standard space and resolution in which data within the Dataset are stored."
   ]
  },
  {
   "cell_type": "code",
   "execution_count": null,
   "metadata": {},
   "outputs": [],
   "source": [
    "pain_dset.masker"
   ]
  },
  {
   "cell_type": "code",
   "execution_count": null,
   "metadata": {},
   "outputs": [],
   "source": [
    "pain_dset.space"
   ]
  },
  {
   "cell_type": "markdown",
   "metadata": {},
   "source": [
    "There are functions to convert common formats for meta-analysis datasets- namely [Neurosynth](https://github.com/neurosynth/neurosynth-data) and [Sleuth](http://brainmap.org/sleuth/) files."
   ]
  },
  {
   "cell_type": "markdown",
   "metadata": {},
   "source": [
    "Downloading and converting the Neurosynth dataset takes a long time, so we will use a pregenerated version of the dataset. However, here is the code we would use to download and convert the dataset from scratch:\n",
    "\n",
    "```python\n",
    "nimare.extract.fetch_neurosynth(\"data/\", unpack=True)\n",
    "ns_dset = nimare.io.convert_neurosynth_to_dataset(\n",
    "    \"data/database.txt\",\n",
    "    \"data/features.txt\",\n",
    ")\n",
    "```"
   ]
  },
  {
   "cell_type": "code",
   "execution_count": null,
   "metadata": {},
   "outputs": [],
   "source": [
    "ns_dset = nimare.dataset.Dataset.load(op.join(DATA_DIR, \"neurosynth_dataset.pkl.gz\"))"
   ]
  },
  {
   "cell_type": "code",
   "execution_count": null,
   "metadata": {},
   "outputs": [],
   "source": [
    "sleuth_dset = nimare.io.convert_sleuth_to_dataset(op.join(DATA_DIR, \"sleuth_dataset.txt\"))"
   ]
  },
  {
   "cell_type": "markdown",
   "metadata": {},
   "source": [
    "## Searching large datasets\n",
    "\n",
    "The `Dataset` class contains multiple methods for selecting subsets of studies within the dataset.\n",
    "\n",
    "One common approach is to search by \"labels\" or \"terms\" that apply to studies. In Neurosynth, labels are derived from term frequency within abstracts.\n",
    "\n",
    "The `slice` method creates a reduced `Dataset` from a list of IDs."
   ]
  },
  {
   "cell_type": "code",
   "execution_count": null,
   "metadata": {},
   "outputs": [],
   "source": [
    "pain_ids = ns_dset.get_studies_by_label(\"Neurosynth_TFIDF__pain\", label_threshold=0.001)\n",
    "ns_pain_dset = ns_dset.slice(pain_ids)"
   ]
  },
  {
   "cell_type": "markdown",
   "metadata": {},
   "source": [
    "A MACM (meta-analytic coactivation modeling) analysis is generally performed by running a meta-analysis on studies with a peak in a region of interest, so Dataset includes two methods for searching based on the locations of coordinates: `Dataset.get_studies_by_coordinate` and `Dataset.get_studies_by_mask`."
   ]
  },
  {
   "cell_type": "code",
   "execution_count": null,
   "metadata": {},
   "outputs": [],
   "source": [
    "sphere_ids = ns_dset.get_studies_by_coordinate([[24, -2, -20]], r=6)\n",
    "sphere_dset = ns_dset.slice(sphere_ids)"
   ]
  },
  {
   "cell_type": "markdown",
   "metadata": {},
   "source": [
    "## Running meta-analyses\n",
    "\n",
    "### Coordinate-based meta-analysis\n",
    "\n",
    "Most coordinate-based meta-analysis algorithms are kernel-based, in that they convolve peaks reported in papers with a \"kernel\". Kernels are generally either binary spheres, as in multi-level kernel density analysis (MKDA), or 3D Gaussian distributions, as in activation likelihood estimation (ALE).\n",
    "\n",
    "NiMARE includes classes for different kernel transformers, which accept Datasets and generate the images resulting from convolving each study's peaks with the associated kernel."
   ]
  },
  {
   "cell_type": "code",
   "execution_count": null,
   "metadata": {},
   "outputs": [],
   "source": [
    "# Create a figure\n",
    "fig, axes = plt.subplots(ncols=3, figsize=(20, 5))\n",
    "\n",
    "# Apply different kernel transformers to the same Dataset\n",
    "kernels = {\n",
    "    nimare.meta.kernel.MKDAKernel(r=10),\n",
    "    nimare.meta.kernel.KDAKernel(r=10),\n",
    "    nimare.meta.kernel.ALEKernel(sample_size=20),\n",
    "}\n",
    "\n",
    "for i_kernel, kernel in enumerate(kernels):\n",
    "    ma_maps = kernel.transform(sleuth_dset, return_type=\"image\")\n",
    "\n",
    "    # Plot the kernel\n",
    "    plotting.plot_stat_map(\n",
    "        ma_maps[28],\n",
    "        annotate=False,\n",
    "        axes=axes[i_kernel],\n",
    "        cmap=\"Reds\",\n",
    "        cut_coords=[30, -30, -14],\n",
    "        draw_cross=False,\n",
    "        figure=fig,\n",
    "        title=type(kernel),\n",
    "    )\n",
    "\n",
    "# Show the overall figure\n",
    "fig.show()"
   ]
  },
  {
   "cell_type": "markdown",
   "metadata": {},
   "source": [
    "Meta-analytic Estimators are initialized with parameters which determine how the Estimator will be run. For example, ALE accepts a kernel transformer (which defaults to the standard `ALEKernel`), a null method, the number of iterations used to define the null distribution, and the number of cores to be used during fitting.\n",
    "\n",
    "The Estimators also have a `fit` method, which accepts a `Dataset` object and returns a `MetaResult` object. [`MetaResult`s](https://nimare.readthedocs.io/en/latest/generated/nimare.results.MetaResult.html#nimare.results.MetaResult) link statistical image names to numpy arrays, and can be used to produce nibabel images from those arrays, as well as save the images to files."
   ]
  },
  {
   "cell_type": "code",
   "execution_count": null,
   "metadata": {},
   "outputs": [],
   "source": [
    "meta = nimare.meta.cbma.ale.ALE(null_method=\"approximate\")\n",
    "meta_results = meta.fit(sleuth_dset)"
   ]
  },
  {
   "cell_type": "code",
   "execution_count": null,
   "metadata": {},
   "outputs": [],
   "source": [
    "print(type(meta_results))"
   ]
  },
  {
   "cell_type": "code",
   "execution_count": null,
   "metadata": {},
   "outputs": [],
   "source": [
    "print(type(meta_results.maps))\n",
    "print(\"Available maps:\")\n",
    "print(\"\\t- \" + \"\\n\\t- \".join(meta_results.maps.keys()))"
   ]
  },
  {
   "cell_type": "code",
   "execution_count": null,
   "metadata": {},
   "outputs": [],
   "source": [
    "z_img = meta_results.get_map(\"z\")\n",
    "print(type(z_img))"
   ]
  },
  {
   "cell_type": "code",
   "execution_count": null,
   "metadata": {},
   "outputs": [],
   "source": [
    "plotting.plot_stat_map(z_img)"
   ]
  },
  {
   "cell_type": "markdown",
   "metadata": {},
   "source": [
    "### Multiple comparisons correction\n",
    "\n",
    "Most of the time, you will want to follow up your meta-analysis with some form of multiple comparisons correction. For this, NiMARE provides Corrector classes in the `correct` module. Specifically, there are two Correctors: [`FWECorrector`](https://nimare.readthedocs.io/en/latest/generated/nimare.correct.FWECorrector.html) and [`FDRCorrector`](https://nimare.readthedocs.io/en/latest/generated/nimare.correct.FDRCorrector.html). In both cases, the Corrector supports a range of naive correction options relying on [`statsmodels`' methods](https://www.statsmodels.org/dev/generated/statsmodels.stats.multitest.multipletests.html).\n",
    "\n",
    "In addition to generic multiple comparisons correction, the Correctors also reference algorithm-specific correction methods, such as the `montecarlo` method supported by most coordinate-based meta-analysis algorithms.\n",
    "\n",
    "Correctors are initialized with parameters, and they have a `transform` method that accepts a `MetaResult` object and returns an updated one with the corrected maps."
   ]
  },
  {
   "cell_type": "code",
   "execution_count": null,
   "metadata": {},
   "outputs": [],
   "source": [
    "mc_corrector = nimare.correct.FWECorrector(\n",
    "    method=\"montecarlo\", \n",
    "    n_iters=100, \n",
    "    n_cores=1,\n",
    ")\n",
    "mc_results = mc_corrector.transform(meta_results)"
   ]
  },
  {
   "cell_type": "code",
   "execution_count": null,
   "metadata": {},
   "outputs": [],
   "source": [
    "print(type(mc_results.maps))\n",
    "print(\"Available maps:\")\n",
    "print(\"\\t- \" + \"\\n\\t- \".join(mc_results.maps.keys()))"
   ]
  },
  {
   "cell_type": "code",
   "execution_count": null,
   "metadata": {},
   "outputs": [],
   "source": [
    "plotting.plot_stat_map(mc_results.get_map(\"z_level-cluster_corr-FWE_method-montecarlo\"))"
   ]
  },
  {
   "cell_type": "markdown",
   "metadata": {},
   "source": [
    "### Image-based meta-analysis"
   ]
  },
  {
   "cell_type": "code",
   "execution_count": null,
   "metadata": {},
   "outputs": [],
   "source": [
    "pain_dset.images"
   ]
  },
  {
   "cell_type": "markdown",
   "metadata": {},
   "source": [
    "Note that \"z\" images are missing for some, but not all, of the studies.\n",
    "\n",
    "NiMARE's `transforms` module contains a function, `transform_images`, which can generate images from other images- as long as the right images and metadata are available. In this case, it can generate z-statistic images from t-statistic maps, combined with sample size information in the metadata. It can also generate \"varcope\" (contrast variance) images from the contrast standard error images."
   ]
  },
  {
   "cell_type": "code",
   "execution_count": null,
   "metadata": {},
   "outputs": [],
   "source": [
    "# Calculate missing images\n",
    "pain_dset.images = nimare.transforms.transform_images(\n",
    "    pain_dset.images,\n",
    "    target=\"z\",\n",
    "    masker=pain_dset.masker,\n",
    "    metadata_df=pain_dset.metadata,\n",
    ")\n",
    "pain_dset.images = nimare.transforms.transform_images(\n",
    "    pain_dset.images,\n",
    "    target=\"varcope\",\n",
    "    masker=pain_dset.masker,\n",
    "    metadata_df=pain_dset.metadata,\n",
    ")"
   ]
  },
  {
   "cell_type": "code",
   "execution_count": null,
   "metadata": {},
   "outputs": [],
   "source": [
    "pain_dset.images.head()"
   ]
  },
  {
   "cell_type": "markdown",
   "metadata": {},
   "source": [
    "Now that we have all of the image types we will need for our meta-analyses, we can run a couple of image-based meta-analysis types.\n",
    "\n",
    "The `DerSimonianLaird` method uses \"beta\" and \"varcope\" images, and estimates between-study variance (a.k.a. $\\tau^2$)."
   ]
  },
  {
   "cell_type": "code",
   "execution_count": null,
   "metadata": {},
   "outputs": [],
   "source": [
    "meta = nimare.meta.ibma.DerSimonianLaird()\n",
    "meta_results = meta.fit(pain_dset)"
   ]
  },
  {
   "cell_type": "code",
   "execution_count": null,
   "metadata": {},
   "outputs": [],
   "source": [
    "plotting.plot_stat_map(meta_results.get_map(\"z\"))"
   ]
  },
  {
   "cell_type": "markdown",
   "metadata": {},
   "source": [
    "The `PermutedOLS` method uses z-statistic images, and relies on [nilearn's `permuted_ols`](https://nilearn.github.io/modules/generated/nilearn.mass_univariate.permuted_ols.html) tool."
   ]
  },
  {
   "cell_type": "code",
   "execution_count": null,
   "metadata": {},
   "outputs": [],
   "source": [
    "meta = nimare.meta.ibma.PermutedOLS()\n",
    "meta_results = meta.fit(pain_dset)"
   ]
  },
  {
   "cell_type": "code",
   "execution_count": null,
   "metadata": {},
   "outputs": [],
   "source": [
    "plotting.plot_stat_map(meta_results.get_map(\"z\"))"
   ]
  },
  {
   "cell_type": "code",
   "execution_count": null,
   "metadata": {},
   "outputs": [],
   "source": [
    "mc_corrector = nimare.correct.FWECorrector(method=\"montecarlo\", n_iters=100)\n",
    "mc_results = mc_corrector.transform(meta_results)"
   ]
  },
  {
   "cell_type": "code",
   "execution_count": null,
   "metadata": {},
   "outputs": [],
   "source": [
    "print(type(mc_results.maps))\n",
    "print(\"Available maps:\")\n",
    "print(\"\\t- \" + \"\\n\\t- \".join(mc_results.maps.keys()))"
   ]
  },
  {
   "cell_type": "code",
   "execution_count": null,
   "metadata": {},
   "outputs": [],
   "source": [
    "plotting.plot_stat_map(mc_results.get_map(\"z_level-voxel_corr-FWE_method-montecarlo\"))"
   ]
  },
  {
   "cell_type": "code",
   "execution_count": null,
   "metadata": {},
   "outputs": [],
   "source": []
  }
 ],
 "metadata": {
  "jupytext": {
   "formats": "ipynb,md"
  },
  "kernelspec": {
   "display_name": "Python 3",
   "language": "python",
   "name": "python3"
  },
  "language_info": {
   "codemirror_mode": {
    "name": "ipython",
    "version": 3
   },
   "file_extension": ".py",
   "mimetype": "text/x-python",
   "name": "python",
   "nbconvert_exporter": "python",
   "pygments_lexer": "ipython3",
   "version": "3.8.5"
  }
 },
 "nbformat": 4,
 "nbformat_minor": 4
}
