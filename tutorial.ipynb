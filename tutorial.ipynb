{
 "cells": [
  {
   "cell_type": "markdown",
   "metadata": {},
   "source": [
    "# OHBM 2021 NiMARE tutorial"
   ]
  },
  {
   "cell_type": "code",
   "execution_count": 1,
   "metadata": {},
   "outputs": [
    {
     "name": "stderr",
     "output_type": "stream",
     "text": [
      "/Users/taylor/Documents/tsalo/nilearn/nilearn/datasets/__init__.py:87: FutureWarning: Fetchers from the nilearn.datasets module will be updated in version 0.9 to return python strings instead of bytes and Pandas dataframes instead of Numpy arrays.\n",
      "  warn(\"Fetchers from the nilearn.datasets module will be \"\n"
     ]
    }
   ],
   "source": [
    "%matplotlib inline\n",
    "import json\n",
    "import matplotlib.pyplot as plt\n",
    "from nilearn import plotting\n",
    "from pprint import pprint\n",
    "\n",
    "import nimare"
   ]
  },
  {
   "cell_type": "markdown",
   "metadata": {},
   "source": [
    "## Basics of NiMARE datasets\n",
    "NiMARE relies on a specification for meta-analytic datasets named [NIMADS](https://github.com/neurostuff/NIMADS). NIMADS is currently under development."
   ]
  },
  {
   "cell_type": "code",
   "execution_count": 2,
   "metadata": {
    "scrolled": false
   },
   "outputs": [
    {
     "name": "stdout",
     "output_type": "stream",
     "text": [
      "{'pain_01.nidm': {'contrasts': {'1': {'coords': {'space': 'MNI',\n",
      "                                                 'x': [48.0,\n",
      "                                                       54.0,\n",
      "                                                       60.0,\n",
      "                                                       60.0,\n",
      "                                                       38.0,\n",
      "                                                       44.0,\n",
      "                                                       52.0,\n",
      "                                                       36.0,\n",
      "                                                       -36.0,\n",
      "                                                       26.0,\n",
      "                                                       12.0,\n",
      "                                                       -2.0,\n",
      "                                                       -60.0,\n",
      "                                                       -56.0,\n",
      "                                                       -50.0,\n",
      "                                                       -56.0],\n",
      "                                                 'y': [-38.0,\n",
      "                                                       -46.0,\n",
      "                                                       -30.0,\n",
      "                                                       -58.0,\n",
      "                                                       46.0,\n",
      "                                                       -6.0,\n",
      "                                                       -4.0,\n",
      "                                                       -12.0,\n",
      "                                                       -68.0,\n",
      "                                                       -80.0,\n",
      "                                                       -106.0,\n",
      "                                                       -104.0,\n",
      "                                                       -52.0,\n",
      "                                                       -62.0,\n",
      "                                                       -42.0,\n",
      "                                                       -66.0],\n",
      "                                                 'z': [-24.0,\n",
      "                                                       -26.0,\n",
      "                                                       -28.0,\n",
      "                                                       -10.0,\n",
      "                                                       6.0,\n",
      "                                                       4.0,\n",
      "                                                       6.0,\n",
      "                                                       -12.0,\n",
      "                                                       -40.0,\n",
      "                                                       -48.0,\n",
      "                                                       2.0,\n",
      "                                                       -2.0,\n",
      "                                                       -10.0,\n",
      "                                                       -6.0,\n",
      "                                                       -24.0,\n",
      "                                                       -12.0]},\n",
      "                                      'images': {'beta': 'pain_01.nidm/Contrast.nii.gz',\n",
      "                                                 'se': 'pain_01.nidm/ContrastStandardError.nii.gz',\n",
      "                                                 't': 'pain_01.nidm/TStatistic.nii.gz',\n",
      "                                                 'z': None},\n",
      "                                      'metadata': {'sample_sizes': [25]}}}},\n",
      " 'pain_02.nidm': {'contrasts': {'1': {'coords': {'space': 'MNI',\n",
      "                                                 'x': [-36.0,\n",
      "                                                       36.0,\n",
      "                                                       52.0,\n",
      "                                                       36.0,\n",
      "                                                       10.0,\n",
      "                                                       -6.0,\n",
      "                                                       -8.0,\n",
      "                                                       4.0],\n",
      "                                                 'y': [2.0,\n",
      "                                                       38.0,\n",
      "                                                       -22.0,\n",
      "                                                       -18.0,\n",
      "                                                       -62.0,\n",
      "                                                       -94.0,\n",
      "                                                       -88.0,\n",
      "                                                       -90.0],\n",
      "                                                 'z': [-16.0,\n",
      "                                                       30.0,\n",
      "                                                       22.0,\n",
      "                                                       10.0,\n",
      "                                                       -10.0,\n",
      "                                                       -6.0,\n",
      "                                                       -16.0,\n",
      "                                                       2.0]},\n",
      "                                      'images': {'beta': 'pain_02.nidm/Contrast.nii.gz',\n",
      "                                                 'se': 'pain_02.nidm/ContrastStandardError.nii.gz',\n",
      "                                                 't': 'pain_02.nidm/TStatistic.nii.gz',\n",
      "                                                 'z': None},\n",
      "                                      'metadata': {'sample_sizes': [25]}}}}}\n"
     ]
    }
   ],
   "source": [
    "with open(\"data/nidm_pain_dset.json\", \"r\") as fo:\n",
    "    data = json.load(fo)\n",
    "\n",
    "reduced_data = {k: v for k, v in data.items() if k in list(data.keys())[:2]}\n",
    "\n",
    "pprint(reduced_data)"
   ]
  },
  {
   "cell_type": "code",
   "execution_count": 3,
   "metadata": {},
   "outputs": [
    {
     "name": "stderr",
     "output_type": "stream",
     "text": [
      "INFO:nimare.utils:Shared path detected: '/Users/taylor/Documents/tsalo/ohbm2021-nimare-tutorial/data/nidm_21pain/'\n"
     ]
    }
   ],
   "source": [
    "dset_dir = nimare.extract.download_nidm_pain(data_dir=\"data/\")\n",
    "pain_dset = nimare.dataset.Dataset(\"data/nidm_pain_dset.json\")\n",
    "pain_dset.update_path(dset_dir)"
   ]
  },
  {
   "cell_type": "markdown",
   "metadata": {},
   "source": [
    "The `Dataset` stores most relevant information as properties- specifically pandas `DataFrame`s."
   ]
  },
  {
   "cell_type": "code",
   "execution_count": 4,
   "metadata": {},
   "outputs": [
    {
     "data": {
      "text/html": [
       "<div>\n",
       "<style scoped>\n",
       "    .dataframe tbody tr th:only-of-type {\n",
       "        vertical-align: middle;\n",
       "    }\n",
       "\n",
       "    .dataframe tbody tr th {\n",
       "        vertical-align: top;\n",
       "    }\n",
       "\n",
       "    .dataframe thead th {\n",
       "        text-align: right;\n",
       "    }\n",
       "</style>\n",
       "<table border=\"1\" class=\"dataframe\">\n",
       "  <thead>\n",
       "    <tr style=\"text-align: right;\">\n",
       "      <th></th>\n",
       "      <th>id</th>\n",
       "      <th>study_id</th>\n",
       "      <th>contrast_id</th>\n",
       "      <th>x</th>\n",
       "      <th>y</th>\n",
       "      <th>z</th>\n",
       "      <th>space</th>\n",
       "      <th>i</th>\n",
       "      <th>j</th>\n",
       "      <th>k</th>\n",
       "    </tr>\n",
       "  </thead>\n",
       "  <tbody>\n",
       "    <tr>\n",
       "      <th>0</th>\n",
       "      <td>pain_01.nidm-1</td>\n",
       "      <td>pain_01.nidm</td>\n",
       "      <td>1</td>\n",
       "      <td>48.0</td>\n",
       "      <td>-38.0</td>\n",
       "      <td>-24.0</td>\n",
       "      <td>mni152_2mm</td>\n",
       "      <td>21</td>\n",
       "      <td>44</td>\n",
       "      <td>24</td>\n",
       "    </tr>\n",
       "    <tr>\n",
       "      <th>14</th>\n",
       "      <td>pain_01.nidm-1</td>\n",
       "      <td>pain_01.nidm</td>\n",
       "      <td>1</td>\n",
       "      <td>-50.0</td>\n",
       "      <td>-42.0</td>\n",
       "      <td>-24.0</td>\n",
       "      <td>mni152_2mm</td>\n",
       "      <td>70</td>\n",
       "      <td>42</td>\n",
       "      <td>24</td>\n",
       "    </tr>\n",
       "    <tr>\n",
       "      <th>13</th>\n",
       "      <td>pain_01.nidm-1</td>\n",
       "      <td>pain_01.nidm</td>\n",
       "      <td>1</td>\n",
       "      <td>-56.0</td>\n",
       "      <td>-62.0</td>\n",
       "      <td>-6.0</td>\n",
       "      <td>mni152_2mm</td>\n",
       "      <td>73</td>\n",
       "      <td>32</td>\n",
       "      <td>33</td>\n",
       "    </tr>\n",
       "    <tr>\n",
       "      <th>12</th>\n",
       "      <td>pain_01.nidm-1</td>\n",
       "      <td>pain_01.nidm</td>\n",
       "      <td>1</td>\n",
       "      <td>-60.0</td>\n",
       "      <td>-52.0</td>\n",
       "      <td>-10.0</td>\n",
       "      <td>mni152_2mm</td>\n",
       "      <td>75</td>\n",
       "      <td>37</td>\n",
       "      <td>31</td>\n",
       "    </tr>\n",
       "    <tr>\n",
       "      <th>11</th>\n",
       "      <td>pain_01.nidm-1</td>\n",
       "      <td>pain_01.nidm</td>\n",
       "      <td>1</td>\n",
       "      <td>-2.0</td>\n",
       "      <td>-104.0</td>\n",
       "      <td>-2.0</td>\n",
       "      <td>mni152_2mm</td>\n",
       "      <td>46</td>\n",
       "      <td>11</td>\n",
       "      <td>35</td>\n",
       "    </tr>\n",
       "  </tbody>\n",
       "</table>\n",
       "</div>"
      ],
      "text/plain": [
       "                id      study_id contrast_id     x      y     z       space  \\\n",
       "0   pain_01.nidm-1  pain_01.nidm           1  48.0  -38.0 -24.0  mni152_2mm   \n",
       "14  pain_01.nidm-1  pain_01.nidm           1 -50.0  -42.0 -24.0  mni152_2mm   \n",
       "13  pain_01.nidm-1  pain_01.nidm           1 -56.0  -62.0  -6.0  mni152_2mm   \n",
       "12  pain_01.nidm-1  pain_01.nidm           1 -60.0  -52.0 -10.0  mni152_2mm   \n",
       "11  pain_01.nidm-1  pain_01.nidm           1  -2.0 -104.0  -2.0  mni152_2mm   \n",
       "\n",
       "     i   j   k  \n",
       "0   21  44  24  \n",
       "14  70  42  24  \n",
       "13  73  32  33  \n",
       "12  75  37  31  \n",
       "11  46  11  35  "
      ]
     },
     "execution_count": 4,
     "metadata": {},
     "output_type": "execute_result"
    }
   ],
   "source": [
    "pain_dset.coordinates.head()"
   ]
  },
  {
   "cell_type": "code",
   "execution_count": 5,
   "metadata": {},
   "outputs": [
    {
     "data": {
      "text/html": [
       "<div>\n",
       "<style scoped>\n",
       "    .dataframe tbody tr th:only-of-type {\n",
       "        vertical-align: middle;\n",
       "    }\n",
       "\n",
       "    .dataframe tbody tr th {\n",
       "        vertical-align: top;\n",
       "    }\n",
       "\n",
       "    .dataframe thead th {\n",
       "        text-align: right;\n",
       "    }\n",
       "</style>\n",
       "<table border=\"1\" class=\"dataframe\">\n",
       "  <thead>\n",
       "    <tr style=\"text-align: right;\">\n",
       "      <th></th>\n",
       "      <th>id</th>\n",
       "      <th>study_id</th>\n",
       "      <th>contrast_id</th>\n",
       "      <th>sample_sizes</th>\n",
       "    </tr>\n",
       "  </thead>\n",
       "  <tbody>\n",
       "    <tr>\n",
       "      <th>0</th>\n",
       "      <td>pain_01.nidm-1</td>\n",
       "      <td>pain_01.nidm</td>\n",
       "      <td>1</td>\n",
       "      <td>[25]</td>\n",
       "    </tr>\n",
       "    <tr>\n",
       "      <th>1</th>\n",
       "      <td>pain_02.nidm-1</td>\n",
       "      <td>pain_02.nidm</td>\n",
       "      <td>1</td>\n",
       "      <td>[25]</td>\n",
       "    </tr>\n",
       "    <tr>\n",
       "      <th>2</th>\n",
       "      <td>pain_03.nidm-1</td>\n",
       "      <td>pain_03.nidm</td>\n",
       "      <td>1</td>\n",
       "      <td>[20]</td>\n",
       "    </tr>\n",
       "    <tr>\n",
       "      <th>3</th>\n",
       "      <td>pain_04.nidm-1</td>\n",
       "      <td>pain_04.nidm</td>\n",
       "      <td>1</td>\n",
       "      <td>[20]</td>\n",
       "    </tr>\n",
       "    <tr>\n",
       "      <th>4</th>\n",
       "      <td>pain_05.nidm-1</td>\n",
       "      <td>pain_05.nidm</td>\n",
       "      <td>1</td>\n",
       "      <td>[9]</td>\n",
       "    </tr>\n",
       "  </tbody>\n",
       "</table>\n",
       "</div>"
      ],
      "text/plain": [
       "               id      study_id contrast_id sample_sizes\n",
       "0  pain_01.nidm-1  pain_01.nidm           1         [25]\n",
       "1  pain_02.nidm-1  pain_02.nidm           1         [25]\n",
       "2  pain_03.nidm-1  pain_03.nidm           1         [20]\n",
       "3  pain_04.nidm-1  pain_04.nidm           1         [20]\n",
       "4  pain_05.nidm-1  pain_05.nidm           1          [9]"
      ]
     },
     "execution_count": 5,
     "metadata": {},
     "output_type": "execute_result"
    }
   ],
   "source": [
    "pain_dset.metadata.head()"
   ]
  },
  {
   "cell_type": "code",
   "execution_count": 6,
   "metadata": {},
   "outputs": [
    {
     "data": {
      "text/html": [
       "<div>\n",
       "<style scoped>\n",
       "    .dataframe tbody tr th:only-of-type {\n",
       "        vertical-align: middle;\n",
       "    }\n",
       "\n",
       "    .dataframe tbody tr th {\n",
       "        vertical-align: top;\n",
       "    }\n",
       "\n",
       "    .dataframe thead th {\n",
       "        text-align: right;\n",
       "    }\n",
       "</style>\n",
       "<table border=\"1\" class=\"dataframe\">\n",
       "  <thead>\n",
       "    <tr style=\"text-align: right;\">\n",
       "      <th></th>\n",
       "      <th>id</th>\n",
       "      <th>study_id</th>\n",
       "      <th>contrast_id</th>\n",
       "      <th>beta__relative</th>\n",
       "      <th>se__relative</th>\n",
       "      <th>t__relative</th>\n",
       "      <th>z__relative</th>\n",
       "      <th>beta</th>\n",
       "      <th>se</th>\n",
       "      <th>t</th>\n",
       "      <th>z</th>\n",
       "    </tr>\n",
       "  </thead>\n",
       "  <tbody>\n",
       "    <tr>\n",
       "      <th>0</th>\n",
       "      <td>pain_01.nidm-1</td>\n",
       "      <td>pain_01.nidm</td>\n",
       "      <td>1</td>\n",
       "      <td>pain_01.nidm/Contrast.nii.gz</td>\n",
       "      <td>pain_01.nidm/ContrastStandardError.nii.gz</td>\n",
       "      <td>pain_01.nidm/TStatistic.nii.gz</td>\n",
       "      <td>None</td>\n",
       "      <td>/Users/taylor/Documents/tsalo/ohbm2021-nimare-...</td>\n",
       "      <td>/Users/taylor/Documents/tsalo/ohbm2021-nimare-...</td>\n",
       "      <td>/Users/taylor/Documents/tsalo/ohbm2021-nimare-...</td>\n",
       "      <td>None</td>\n",
       "    </tr>\n",
       "    <tr>\n",
       "      <th>1</th>\n",
       "      <td>pain_02.nidm-1</td>\n",
       "      <td>pain_02.nidm</td>\n",
       "      <td>1</td>\n",
       "      <td>pain_02.nidm/Contrast.nii.gz</td>\n",
       "      <td>pain_02.nidm/ContrastStandardError.nii.gz</td>\n",
       "      <td>pain_02.nidm/TStatistic.nii.gz</td>\n",
       "      <td>None</td>\n",
       "      <td>/Users/taylor/Documents/tsalo/ohbm2021-nimare-...</td>\n",
       "      <td>/Users/taylor/Documents/tsalo/ohbm2021-nimare-...</td>\n",
       "      <td>/Users/taylor/Documents/tsalo/ohbm2021-nimare-...</td>\n",
       "      <td>None</td>\n",
       "    </tr>\n",
       "    <tr>\n",
       "      <th>2</th>\n",
       "      <td>pain_03.nidm-1</td>\n",
       "      <td>pain_03.nidm</td>\n",
       "      <td>1</td>\n",
       "      <td>pain_03.nidm/Contrast.nii.gz</td>\n",
       "      <td>pain_03.nidm/ContrastStandardError.nii.gz</td>\n",
       "      <td>pain_03.nidm/TStatistic.nii.gz</td>\n",
       "      <td>None</td>\n",
       "      <td>/Users/taylor/Documents/tsalo/ohbm2021-nimare-...</td>\n",
       "      <td>/Users/taylor/Documents/tsalo/ohbm2021-nimare-...</td>\n",
       "      <td>/Users/taylor/Documents/tsalo/ohbm2021-nimare-...</td>\n",
       "      <td>None</td>\n",
       "    </tr>\n",
       "    <tr>\n",
       "      <th>3</th>\n",
       "      <td>pain_04.nidm-1</td>\n",
       "      <td>pain_04.nidm</td>\n",
       "      <td>1</td>\n",
       "      <td>pain_04.nidm/Contrast.nii.gz</td>\n",
       "      <td>pain_04.nidm/ContrastStandardError.nii.gz</td>\n",
       "      <td>pain_04.nidm/TStatistic.nii.gz</td>\n",
       "      <td>None</td>\n",
       "      <td>/Users/taylor/Documents/tsalo/ohbm2021-nimare-...</td>\n",
       "      <td>/Users/taylor/Documents/tsalo/ohbm2021-nimare-...</td>\n",
       "      <td>/Users/taylor/Documents/tsalo/ohbm2021-nimare-...</td>\n",
       "      <td>None</td>\n",
       "    </tr>\n",
       "    <tr>\n",
       "      <th>4</th>\n",
       "      <td>pain_05.nidm-1</td>\n",
       "      <td>pain_05.nidm</td>\n",
       "      <td>1</td>\n",
       "      <td>pain_05.nidm/Contrast.nii.gz</td>\n",
       "      <td>pain_05.nidm/ContrastStandardError.nii.gz</td>\n",
       "      <td>pain_05.nidm/TStatistic.nii.gz</td>\n",
       "      <td>None</td>\n",
       "      <td>/Users/taylor/Documents/tsalo/ohbm2021-nimare-...</td>\n",
       "      <td>/Users/taylor/Documents/tsalo/ohbm2021-nimare-...</td>\n",
       "      <td>/Users/taylor/Documents/tsalo/ohbm2021-nimare-...</td>\n",
       "      <td>None</td>\n",
       "    </tr>\n",
       "  </tbody>\n",
       "</table>\n",
       "</div>"
      ],
      "text/plain": [
       "               id      study_id contrast_id                beta__relative  \\\n",
       "0  pain_01.nidm-1  pain_01.nidm           1  pain_01.nidm/Contrast.nii.gz   \n",
       "1  pain_02.nidm-1  pain_02.nidm           1  pain_02.nidm/Contrast.nii.gz   \n",
       "2  pain_03.nidm-1  pain_03.nidm           1  pain_03.nidm/Contrast.nii.gz   \n",
       "3  pain_04.nidm-1  pain_04.nidm           1  pain_04.nidm/Contrast.nii.gz   \n",
       "4  pain_05.nidm-1  pain_05.nidm           1  pain_05.nidm/Contrast.nii.gz   \n",
       "\n",
       "                                se__relative                     t__relative  \\\n",
       "0  pain_01.nidm/ContrastStandardError.nii.gz  pain_01.nidm/TStatistic.nii.gz   \n",
       "1  pain_02.nidm/ContrastStandardError.nii.gz  pain_02.nidm/TStatistic.nii.gz   \n",
       "2  pain_03.nidm/ContrastStandardError.nii.gz  pain_03.nidm/TStatistic.nii.gz   \n",
       "3  pain_04.nidm/ContrastStandardError.nii.gz  pain_04.nidm/TStatistic.nii.gz   \n",
       "4  pain_05.nidm/ContrastStandardError.nii.gz  pain_05.nidm/TStatistic.nii.gz   \n",
       "\n",
       "  z__relative                                               beta  \\\n",
       "0        None  /Users/taylor/Documents/tsalo/ohbm2021-nimare-...   \n",
       "1        None  /Users/taylor/Documents/tsalo/ohbm2021-nimare-...   \n",
       "2        None  /Users/taylor/Documents/tsalo/ohbm2021-nimare-...   \n",
       "3        None  /Users/taylor/Documents/tsalo/ohbm2021-nimare-...   \n",
       "4        None  /Users/taylor/Documents/tsalo/ohbm2021-nimare-...   \n",
       "\n",
       "                                                  se  \\\n",
       "0  /Users/taylor/Documents/tsalo/ohbm2021-nimare-...   \n",
       "1  /Users/taylor/Documents/tsalo/ohbm2021-nimare-...   \n",
       "2  /Users/taylor/Documents/tsalo/ohbm2021-nimare-...   \n",
       "3  /Users/taylor/Documents/tsalo/ohbm2021-nimare-...   \n",
       "4  /Users/taylor/Documents/tsalo/ohbm2021-nimare-...   \n",
       "\n",
       "                                                   t     z  \n",
       "0  /Users/taylor/Documents/tsalo/ohbm2021-nimare-...  None  \n",
       "1  /Users/taylor/Documents/tsalo/ohbm2021-nimare-...  None  \n",
       "2  /Users/taylor/Documents/tsalo/ohbm2021-nimare-...  None  \n",
       "3  /Users/taylor/Documents/tsalo/ohbm2021-nimare-...  None  \n",
       "4  /Users/taylor/Documents/tsalo/ohbm2021-nimare-...  None  "
      ]
     },
     "execution_count": 6,
     "metadata": {},
     "output_type": "execute_result"
    }
   ],
   "source": [
    "pain_dset.images.head()"
   ]
  },
  {
   "cell_type": "markdown",
   "metadata": {},
   "source": [
    "There are functions to convert common formats for meta-analysis datasets- namely [Neurosynth](https://github.com/neurosynth/neurosynth-data) and [Sleuth](http://brainmap.org/sleuth/) files."
   ]
  },
  {
   "cell_type": "markdown",
   "metadata": {},
   "source": [
    "Downloading and converting the Neurosynth dataset takes a long time, so we will use a pregenerated version of the dataset. However, here is the code we would use to download and convert the dataset from scratch:\n",
    "\n",
    "```python\n",
    "nimare.extract.fetch_neurosynth(\"data/\", unpack=True)\n",
    "ns_dset = nimare.io.convert_neurosynth_to_dataset(\n",
    "    \"data/database.txt\",\n",
    "    \"data/features.txt\",\n",
    ")\n",
    "```"
   ]
  },
  {
   "cell_type": "code",
   "execution_count": 7,
   "metadata": {},
   "outputs": [],
   "source": [
    "ns_dset = nimare.dataset.Dataset.load(\"data/neurosynth_dataset.pkl.gz\")"
   ]
  },
  {
   "cell_type": "code",
   "execution_count": 8,
   "metadata": {},
   "outputs": [],
   "source": [
    "sleuth_dset = nimare.io.convert_sleuth_to_dataset(\"data/sleuth_dataset.txt\")"
   ]
  },
  {
   "cell_type": "markdown",
   "metadata": {},
   "source": [
    "## Searching large datasets\n",
    "\n",
    "The `Dataset` class contains multiple methods for selecting subsets of studies within the dataset.\n",
    "\n",
    "One common approach is to search by \"labels\" or \"terms\" that apply to studies. In Neurosynth, labels are derived from term frequency within abstracts."
   ]
  },
  {
   "cell_type": "code",
   "execution_count": 9,
   "metadata": {},
   "outputs": [
    {
     "name": "stderr",
     "output_type": "stream",
     "text": [
      "INFO:nimare.utils:Shared path detected: '/home/data/nbc/misc-projects/Salo_NiMARE/nimare-paper/data/ns_dset_maps/'\n",
      "/Users/taylor/Documents/tsalo/NiMARE/nimare/utils.py:211: SettingWithCopyWarning: \n",
      "A value is trying to be set on a copy of a slice from a DataFrame.\n",
      "Try using .loc[row_indexer,col_indexer] = value instead\n",
      "\n",
      "See the caveats in the documentation: https://pandas.pydata.org/pandas-docs/stable/user_guide/indexing.html#returning-a-view-versus-a-copy\n",
      "  image_df[abs_col + \"__relative\"] = image_df[abs_col].apply(\n"
     ]
    }
   ],
   "source": [
    "pain_ids = ns_dset.get_studies_by_label(\"Neurosynth_TFIDF__pain\", label_threshold=0.001)\n",
    "ns_pain_dset = ns_dset.slice(pain_ids)"
   ]
  },
  {
   "cell_type": "markdown",
   "metadata": {},
   "source": [
    "A MACM (meta-analytic coactivation modeling) analysis is generally performed by running a meta-analysis on studies with a peak in a region of interest."
   ]
  },
  {
   "cell_type": "code",
   "execution_count": 10,
   "metadata": {},
   "outputs": [
    {
     "name": "stderr",
     "output_type": "stream",
     "text": [
      "INFO:nimare.utils:Shared path detected: '/home/data/nbc/misc-projects/Salo_NiMARE/nimare-paper/data/ns_dset_maps/'\n"
     ]
    }
   ],
   "source": [
    "sphere_ids = ns_dset.get_studies_by_coordinate([[24, -2, -20]], r=6)\n",
    "sphere_dset = ns_dset.slice(sphere_ids)"
   ]
  },
  {
   "cell_type": "markdown",
   "metadata": {},
   "source": [
    "## Running meta-analyses\n",
    "\n",
    "### Coordinate-based meta-analysis"
   ]
  },
  {
   "cell_type": "code",
   "execution_count": 11,
   "metadata": {},
   "outputs": [
    {
     "name": "stderr",
     "output_type": "stream",
     "text": [
      "<ipython-input-11-d6fddd68cb81>:40: UserWarning: Matplotlib is currently using module://ipykernel.pylab.backend_inline, which is a non-GUI backend, so cannot show the figure.\n",
      "  fig.show()\n"
     ]
    },
    {
     "data": {
      "image/png": "[encoded data removed]",
      "text/plain": [
       "<Figure size 1440x360 with 15 Axes>"
      ]
     },
     "metadata": {
      "needs_background": "light"
     },
     "output_type": "display_data"
    }
   ],
   "source": [
    "mkda_kernel = nimare.meta.kernel.MKDAKernel(r=10)\n",
    "mkda_ma_maps = mkda_kernel.transform(sleuth_dset, return_type=\"image\")\n",
    "kda_kernel = nimare.meta.kernel.KDAKernel(r=10)\n",
    "kda_ma_maps = kda_kernel.transform(sleuth_dset, return_type=\"image\")\n",
    "ale_kernel = nimare.meta.kernel.ALEKernel(sample_size=20)\n",
    "ale_ma_maps = ale_kernel.transform(sleuth_dset, return_type=\"image\")\n",
    "\n",
    "# Let's show the kernels\n",
    "fig, axes = plt.subplots(ncols=3, figsize=(20, 5))\n",
    "plotting.plot_stat_map(\n",
    "    mkda_ma_maps[28],\n",
    "    annotate=False,\n",
    "    axes=axes[0],\n",
    "    cmap=\"Reds\",\n",
    "    cut_coords=[30, -30, -14],\n",
    "    draw_cross=False,\n",
    "    figure=fig,\n",
    "    title=\"MKDA Kernel\",\n",
    ")\n",
    "plotting.plot_stat_map(\n",
    "    kda_ma_maps[28],\n",
    "    annotate=False,\n",
    "    axes=axes[1],\n",
    "    cmap=\"Reds\",\n",
    "    cut_coords=[30, -30, -14],\n",
    "    draw_cross=False,\n",
    "    figure=fig,\n",
    "    title=\"KDA Kernel\",\n",
    ")\n",
    "plotting.plot_stat_map(\n",
    "    ale_ma_maps[28],\n",
    "    annotate=False,\n",
    "    axes=axes[2],\n",
    "    cmap=\"Reds\",\n",
    "    cut_coords=[30, -30, -14],\n",
    "    draw_cross=False,\n",
    "    figure=fig,\n",
    "    title=\"ALE Kernel\",\n",
    ")\n",
    "fig.show()"
   ]
  },
  {
   "cell_type": "code",
   "execution_count": 16,
   "metadata": {},
   "outputs": [
    {
     "data": {
      "text/plain": [
       "{'stat': array([0.00000000e+00, 0.00000000e+00, 0.00000000e+00, ...,\n",
       "        4.89476717e-05, 7.39929504e-05, 1.86636247e-05]),\n",
       " 'p': array([1.        , 1.        , 1.        , ..., 0.45645078, 0.4560558 ,\n",
       "        0.56475849]),\n",
       " 'z': array([0.        , 0.        , 0.        , ..., 0.10937942, 0.11037549,\n",
       "        0.        ])}"
      ]
     },
     "execution_count": 16,
     "metadata": {},
     "output_type": "execute_result"
    }
   ],
   "source": [
    "ale_meta = nimare.meta.cbma.ale.ALE(null_method=\"approximate\")\n",
    "ale_results = ale_meta.fit(sleuth_dset)\n",
    "ale_results.maps"
   ]
  },
  {
   "cell_type": "code",
   "execution_count": 17,
   "metadata": {},
   "outputs": [
    {
     "data": {
      "text/plain": [
       "<nilearn.plotting.displays.OrthoSlicer at 0x7fc34d0c78b0>"
      ]
     },
     "execution_count": 17,
     "metadata": {},
     "output_type": "execute_result"
    },
    {
     "data": {
      "image/png": "[encoded data removed]",
      "text/plain": [
       "<Figure size 525.6x187.2 with 5 Axes>"
      ]
     },
     "metadata": {},
     "output_type": "display_data"
    }
   ],
   "source": [
    "plotting.plot_stat_map(ale_results.get_map(\"z\"))"
   ]
  },
  {
   "cell_type": "code",
   "execution_count": 19,
   "metadata": {},
   "outputs": [
    {
     "name": "stderr",
     "output_type": "stream",
     "text": [
      "INFO:nimare.correct:Using correction method implemented in Estimator: nimare.meta.cbma.ale.ALE.correct_fwe_montecarlo.\n"
     ]
    },
    {
     "data": {
      "application/vnd.jupyter.widget-view+json": {
       "model_id": "4aa07f82c9114197b5f77e0616bb6b5e",
       "version_major": 2,
       "version_minor": 0
      },
      "text/plain": [
       "  0%|          | 0/100 [00:00<?, ?it/s]"
      ]
     },
     "metadata": {},
     "output_type": "display_data"
    },
    {
     "name": "stderr",
     "output_type": "stream",
     "text": [
      "INFO:nimare.meta.cbma.base:Using null distribution for voxel-level FWE correction.\n"
     ]
    },
    {
     "data": {
      "text/plain": [
       "{'stat': array([0.00000000e+00, 0.00000000e+00, 0.00000000e+00, ...,\n",
       "        4.89476717e-05, 7.39929504e-05, 1.86636247e-05]),\n",
       " 'p': array([1.        , 1.        , 1.        , ..., 0.45645078, 0.4560558 ,\n",
       "        0.56475849]),\n",
       " 'z': array([0.        , 0.        , 0.        , ..., 0.10937942, 0.11037549,\n",
       "        0.        ]),\n",
       " 'logp_level-voxel_corr-FWE_method-montecarlo': array([0.00436481, 0.00436481, 0.00436481, ..., 0.00436481, 0.00436481,\n",
       "        0.00436481]),\n",
       " 'z_level-voxel_corr-FWE_method-montecarlo': array([0., 0., 0., ..., 0., 0., 0.]),\n",
       " 'logp_level-cluster_corr-FWE_method-montecarlo': array([0.00436481, 0.00436481, 0.00436481, ..., 0.00436481, 0.00436481,\n",
       "        0.00436481]),\n",
       " 'z_level-cluster_corr-FWE_method-montecarlo': array([0., 0., 0., ..., 0., 0., 0.])}"
      ]
     },
     "execution_count": 19,
     "metadata": {},
     "output_type": "execute_result"
    }
   ],
   "source": [
    "mc_corrector = nimare.correct.FWECorrector(\n",
    "    method=\"montecarlo\", \n",
    "    n_iters=100, \n",
    "    n_cores=1,\n",
    ")\n",
    "mc_results = mc_corrector.transform(ale_results)\n",
    "mc_results.maps"
   ]
  },
  {
   "cell_type": "code",
   "execution_count": 21,
   "metadata": {},
   "outputs": [
    {
     "data": {
      "text/plain": [
       "<nilearn.plotting.displays.OrthoSlicer at 0x7fc34e4efd30>"
      ]
     },
     "execution_count": 21,
     "metadata": {},
     "output_type": "execute_result"
    },
    {
     "data": {
      "image/png": "[encoded data removed]",
      "text/plain": [
       "<Figure size 525.6x187.2 with 5 Axes>"
      ]
     },
     "metadata": {},
     "output_type": "display_data"
    }
   ],
   "source": [
    "plotting.plot_stat_map(mc_results.get_map(\"z_level-cluster_corr-FWE_method-montecarlo\"))"
   ]
  },
  {
   "cell_type": "markdown",
   "metadata": {},
   "source": [
    "### Image-based meta-analysis"
   ]
  },
  {
   "cell_type": "code",
   "execution_count": 22,
   "metadata": {},
   "outputs": [
    {
     "data": {
      "text/html": [
       "<div>\n",
       "<style scoped>\n",
       "    .dataframe tbody tr th:only-of-type {\n",
       "        vertical-align: middle;\n",
       "    }\n",
       "\n",
       "    .dataframe tbody tr th {\n",
       "        vertical-align: top;\n",
       "    }\n",
       "\n",
       "    .dataframe thead th {\n",
       "        text-align: right;\n",
       "    }\n",
       "</style>\n",
       "<table border=\"1\" class=\"dataframe\">\n",
       "  <thead>\n",
       "    <tr style=\"text-align: right;\">\n",
       "      <th></th>\n",
       "      <th>id</th>\n",
       "      <th>study_id</th>\n",
       "      <th>contrast_id</th>\n",
       "      <th>beta__relative</th>\n",
       "      <th>se__relative</th>\n",
       "      <th>t__relative</th>\n",
       "      <th>z__relative</th>\n",
       "      <th>beta</th>\n",
       "      <th>se</th>\n",
       "      <th>t</th>\n",
       "      <th>z</th>\n",
       "    </tr>\n",
       "  </thead>\n",
       "  <tbody>\n",
       "    <tr>\n",
       "      <th>0</th>\n",
       "      <td>pain_01.nidm-1</td>\n",
       "      <td>pain_01.nidm</td>\n",
       "      <td>1</td>\n",
       "      <td>pain_01.nidm/Contrast.nii.gz</td>\n",
       "      <td>pain_01.nidm/ContrastStandardError.nii.gz</td>\n",
       "      <td>pain_01.nidm/TStatistic.nii.gz</td>\n",
       "      <td>None</td>\n",
       "      <td>/Users/taylor/Documents/tsalo/ohbm2021-nimare-...</td>\n",
       "      <td>/Users/taylor/Documents/tsalo/ohbm2021-nimare-...</td>\n",
       "      <td>/Users/taylor/Documents/tsalo/ohbm2021-nimare-...</td>\n",
       "      <td>None</td>\n",
       "    </tr>\n",
       "    <tr>\n",
       "      <th>1</th>\n",
       "      <td>pain_02.nidm-1</td>\n",
       "      <td>pain_02.nidm</td>\n",
       "      <td>1</td>\n",
       "      <td>pain_02.nidm/Contrast.nii.gz</td>\n",
       "      <td>pain_02.nidm/ContrastStandardError.nii.gz</td>\n",
       "      <td>pain_02.nidm/TStatistic.nii.gz</td>\n",
       "      <td>None</td>\n",
       "      <td>/Users/taylor/Documents/tsalo/ohbm2021-nimare-...</td>\n",
       "      <td>/Users/taylor/Documents/tsalo/ohbm2021-nimare-...</td>\n",
       "      <td>/Users/taylor/Documents/tsalo/ohbm2021-nimare-...</td>\n",
       "      <td>None</td>\n",
       "    </tr>\n",
       "    <tr>\n",
       "      <th>2</th>\n",
       "      <td>pain_03.nidm-1</td>\n",
       "      <td>pain_03.nidm</td>\n",
       "      <td>1</td>\n",
       "      <td>pain_03.nidm/Contrast.nii.gz</td>\n",
       "      <td>pain_03.nidm/ContrastStandardError.nii.gz</td>\n",
       "      <td>pain_03.nidm/TStatistic.nii.gz</td>\n",
       "      <td>None</td>\n",
       "      <td>/Users/taylor/Documents/tsalo/ohbm2021-nimare-...</td>\n",
       "      <td>/Users/taylor/Documents/tsalo/ohbm2021-nimare-...</td>\n",
       "      <td>/Users/taylor/Documents/tsalo/ohbm2021-nimare-...</td>\n",
       "      <td>None</td>\n",
       "    </tr>\n",
       "    <tr>\n",
       "      <th>3</th>\n",
       "      <td>pain_04.nidm-1</td>\n",
       "      <td>pain_04.nidm</td>\n",
       "      <td>1</td>\n",
       "      <td>pain_04.nidm/Contrast.nii.gz</td>\n",
       "      <td>pain_04.nidm/ContrastStandardError.nii.gz</td>\n",
       "      <td>pain_04.nidm/TStatistic.nii.gz</td>\n",
       "      <td>None</td>\n",
       "      <td>/Users/taylor/Documents/tsalo/ohbm2021-nimare-...</td>\n",
       "      <td>/Users/taylor/Documents/tsalo/ohbm2021-nimare-...</td>\n",
       "      <td>/Users/taylor/Documents/tsalo/ohbm2021-nimare-...</td>\n",
       "      <td>None</td>\n",
       "    </tr>\n",
       "    <tr>\n",
       "      <th>4</th>\n",
       "      <td>pain_05.nidm-1</td>\n",
       "      <td>pain_05.nidm</td>\n",
       "      <td>1</td>\n",
       "      <td>pain_05.nidm/Contrast.nii.gz</td>\n",
       "      <td>pain_05.nidm/ContrastStandardError.nii.gz</td>\n",
       "      <td>pain_05.nidm/TStatistic.nii.gz</td>\n",
       "      <td>None</td>\n",
       "      <td>/Users/taylor/Documents/tsalo/ohbm2021-nimare-...</td>\n",
       "      <td>/Users/taylor/Documents/tsalo/ohbm2021-nimare-...</td>\n",
       "      <td>/Users/taylor/Documents/tsalo/ohbm2021-nimare-...</td>\n",
       "      <td>None</td>\n",
       "    </tr>\n",
       "  </tbody>\n",
       "</table>\n",
       "</div>"
      ],
      "text/plain": [
       "               id      study_id contrast_id                beta__relative  \\\n",
       "0  pain_01.nidm-1  pain_01.nidm           1  pain_01.nidm/Contrast.nii.gz   \n",
       "1  pain_02.nidm-1  pain_02.nidm           1  pain_02.nidm/Contrast.nii.gz   \n",
       "2  pain_03.nidm-1  pain_03.nidm           1  pain_03.nidm/Contrast.nii.gz   \n",
       "3  pain_04.nidm-1  pain_04.nidm           1  pain_04.nidm/Contrast.nii.gz   \n",
       "4  pain_05.nidm-1  pain_05.nidm           1  pain_05.nidm/Contrast.nii.gz   \n",
       "\n",
       "                                se__relative                     t__relative  \\\n",
       "0  pain_01.nidm/ContrastStandardError.nii.gz  pain_01.nidm/TStatistic.nii.gz   \n",
       "1  pain_02.nidm/ContrastStandardError.nii.gz  pain_02.nidm/TStatistic.nii.gz   \n",
       "2  pain_03.nidm/ContrastStandardError.nii.gz  pain_03.nidm/TStatistic.nii.gz   \n",
       "3  pain_04.nidm/ContrastStandardError.nii.gz  pain_04.nidm/TStatistic.nii.gz   \n",
       "4  pain_05.nidm/ContrastStandardError.nii.gz  pain_05.nidm/TStatistic.nii.gz   \n",
       "\n",
       "  z__relative                                               beta  \\\n",
       "0        None  /Users/taylor/Documents/tsalo/ohbm2021-nimare-...   \n",
       "1        None  /Users/taylor/Documents/tsalo/ohbm2021-nimare-...   \n",
       "2        None  /Users/taylor/Documents/tsalo/ohbm2021-nimare-...   \n",
       "3        None  /Users/taylor/Documents/tsalo/ohbm2021-nimare-...   \n",
       "4        None  /Users/taylor/Documents/tsalo/ohbm2021-nimare-...   \n",
       "\n",
       "                                                  se  \\\n",
       "0  /Users/taylor/Documents/tsalo/ohbm2021-nimare-...   \n",
       "1  /Users/taylor/Documents/tsalo/ohbm2021-nimare-...   \n",
       "2  /Users/taylor/Documents/tsalo/ohbm2021-nimare-...   \n",
       "3  /Users/taylor/Documents/tsalo/ohbm2021-nimare-...   \n",
       "4  /Users/taylor/Documents/tsalo/ohbm2021-nimare-...   \n",
       "\n",
       "                                                   t     z  \n",
       "0  /Users/taylor/Documents/tsalo/ohbm2021-nimare-...  None  \n",
       "1  /Users/taylor/Documents/tsalo/ohbm2021-nimare-...  None  \n",
       "2  /Users/taylor/Documents/tsalo/ohbm2021-nimare-...  None  \n",
       "3  /Users/taylor/Documents/tsalo/ohbm2021-nimare-...  None  \n",
       "4  /Users/taylor/Documents/tsalo/ohbm2021-nimare-...  None  "
      ]
     },
     "execution_count": 22,
     "metadata": {},
     "output_type": "execute_result"
    }
   ],
   "source": [
    "pain_dset.images.head()"
   ]
  },
  {
   "cell_type": "code",
   "execution_count": 23,
   "metadata": {},
   "outputs": [
    {
     "name": "stderr",
     "output_type": "stream",
     "text": [
      "INFO:nimare.utils:Shared path detected: '/Users/taylor/Documents/tsalo/ohbm2021-nimare-tutorial/data/nidm_21pain/'\n",
      "INFO:nimare.utils:Shared path detected: '/Users/taylor/Documents/tsalo/ohbm2021-nimare-tutorial/data/nidm_21pain/'\n"
     ]
    }
   ],
   "source": [
    "# Calculate missing images\n",
    "pain_dset.images = nimare.transforms.transform_images(\n",
    "    pain_dset.images,\n",
    "    target=\"z\",\n",
    "    masker=pain_dset.masker,\n",
    "    metadata_df=pain_dset.metadata,\n",
    ")\n",
    "pain_dset.images = nimare.transforms.transform_images(\n",
    "    pain_dset.images,\n",
    "    target=\"varcope\",\n",
    "    masker=pain_dset.masker,\n",
    "    metadata_df=pain_dset.metadata,\n",
    ")"
   ]
  },
  {
   "cell_type": "code",
   "execution_count": 24,
   "metadata": {},
   "outputs": [
    {
     "name": "stderr",
     "output_type": "stream",
     "text": [
      "/Users/taylor/Documents/tsalo/PyMARE/pymare/stats.py:23: RuntimeWarning: divide by zero encountered in true_divide\n",
      "  w = 1. / (v + tau2)\n",
      "/Users/taylor/Documents/tsalo/PyMARE/pymare/estimators/estimators.py:200: RuntimeWarning: divide by zero encountered in true_divide\n",
      "  w = 1. / v\n"
     ]
    }
   ],
   "source": [
    "dsl_meta = nimare.meta.ibma.DerSimonianLaird()\n",
    "dsl_results = dsl_meta.fit(pain_dset)"
   ]
  },
  {
   "cell_type": "code",
   "execution_count": 25,
   "metadata": {},
   "outputs": [
    {
     "name": "stderr",
     "output_type": "stream",
     "text": [
      "/Users/taylor/Documents/tsalo/nilearn/nilearn/_utils/niimg.py:61: UserWarning: Non-finite values detected. These values will be replaced with zeros.\n",
      "  warn(\n"
     ]
    },
    {
     "data": {
      "text/plain": [
       "<nilearn.plotting.displays.OrthoSlicer at 0x7fc351eb23d0>"
      ]
     },
     "execution_count": 25,
     "metadata": {},
     "output_type": "execute_result"
    },
    {
     "data": {
      "image/png": "[encoded data removed]",
      "text/plain": [
       "<Figure size 525.6x187.2 with 5 Axes>"
      ]
     },
     "metadata": {},
     "output_type": "display_data"
    }
   ],
   "source": [
    "plotting.plot_stat_map(dsl_results.get_map(\"z\"))"
   ]
  },
  {
   "cell_type": "code",
   "execution_count": 26,
   "metadata": {},
   "outputs": [
    {
     "name": "stderr",
     "output_type": "stream",
     "text": [
      "/Users/taylor/Documents/tsalo/nilearn/nilearn/mass_univariate/permuted_least_squares.py:391: UserWarning: Some descriptors in 'target_vars' have zeros across all samples. These descriptors will be ignored during null distribution generation.\n",
      "  warnings.warn(\"Some descriptors in 'target_vars' have zeros across all \"\n",
      "/Users/taylor/Documents/tsalo/nilearn/nilearn/mass_univariate/permuted_least_squares.py:52: RuntimeWarning: invalid value encountered in true_divide\n",
      "  ret = (m.T / np.sqrt(np.sum(m ** 2, axis=0))[:, np.newaxis]).T\n"
     ]
    }
   ],
   "source": [
    "ols_meta = nimare.meta.ibma.PermutedOLS()\n",
    "ols_results = ols_meta.fit(pain_dset)"
   ]
  },
  {
   "cell_type": "code",
   "execution_count": 27,
   "metadata": {},
   "outputs": [
    {
     "data": {
      "text/plain": [
       "<nilearn.plotting.displays.OrthoSlicer at 0x7fc34d7e6340>"
      ]
     },
     "execution_count": 27,
     "metadata": {},
     "output_type": "execute_result"
    },
    {
     "data": {
      "image/png": "[encoded data removed]",
      "text/plain": [
       "<Figure size 525.6x187.2 with 5 Axes>"
      ]
     },
     "metadata": {},
     "output_type": "display_data"
    }
   ],
   "source": [
    "plotting.plot_stat_map(ols_results.get_map(\"z\"))"
   ]
  },
  {
   "cell_type": "code",
   "execution_count": null,
   "metadata": {},
   "outputs": [],
   "source": []
  }
 ],
 "metadata": {
  "jupytext": {
   "formats": "ipynb,md"
  },
  "kernelspec": {
   "display_name": "Python 3",
   "language": "python",
   "name": "python3"
  },
  "language_info": {
   "codemirror_mode": {
    "name": "ipython",
    "version": 3
   },
   "file_extension": ".py",
   "mimetype": "text/x-python",
   "name": "python",
   "nbconvert_exporter": "python",
   "pygments_lexer": "ipython3",
   "version": "3.8.5"
  }
 },
 "nbformat": 4,
 "nbformat_minor": 4
}
